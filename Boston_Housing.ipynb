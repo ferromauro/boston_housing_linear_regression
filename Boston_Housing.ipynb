{
  "nbformat": 4,
  "nbformat_minor": 0,
  "metadata": {
    "colab": {
      "name": "Boston_Housing.ipynb",
      "provenance": [],
      "collapsed_sections": []
    },
    "kernelspec": {
      "name": "python3",
      "display_name": "Python 3"
    }
  },
  "cells": [
    {
      "cell_type": "markdown",
      "metadata": {
        "id": "0D_3ErXeCthc",
        "colab_type": "text"
      },
      "source": [
        "# BOSTON HOUSING DATASET\n",
        " ![alt text](https://tse4.mm.bing.net/th?id=OIP.HwJq0-iggX7f3a-QTmPJRQHaCb&pid=Api&P=0&w=100%&h=110)"
      ]
    },
    {
      "cell_type": "markdown",
      "metadata": {
        "id": "8NTP3A9ZDf_J",
        "colab_type": "text"
      },
      "source": [
        "In questo notebook andremo a rivedere uno degli esempi classici di housing dataset: questi tipi di dataset contengono numerose informazioni relative agli alloggi ed appartementi di una certa ona, nel nostro caso si tratta di un distretto di Boston. Attraverso l'analisi dei dati cercheremo di individuare una certa correlazione tra divere features di una abitazione: in particolare nel nostro caso andremo a verificare se esiste una correlazione tra il numero delle stanze di un alloggio ed il suo valore. \n",
        "\n"
      ]
    },
    {
      "cell_type": "code",
      "metadata": {
        "id": "o4jp09RYD4kU",
        "colab_type": "code",
        "outputId": "4ead3fa8-6794-4415-909c-badca8413abf",
        "colab": {
          "base_uri": "https://localhost:8080/",
          "height": 195
        }
      },
      "source": [
        "# Importiamo le librerie base.\n",
        "import pandas as pd \n",
        "import numpy as np\n",
        "\n",
        "# Importiamo il dataset.\n",
        "url = 'https://archive.ics.uci.edu/ml/machine-learning-databases/housing/housing.data'\n",
        "features = ['CRIM', 'ZN', 'INDUS', 'CHAS', 'NOX', 'RM', 'AGE', 'DIS', 'RAD','TAX', 'PTRATIO', 'B', 'LSTAT', 'MEDV']\n",
        "\n",
        "# Creiamo in DataFrame e mostriamo le prime 5 rilevazioni.\n",
        "boston = pd.read_csv(url, sep='\\s+', names=features)\n",
        "boston.head()"
      ],
      "execution_count": 0,
      "outputs": [
        {
          "output_type": "execute_result",
          "data": {
            "text/html": [
              "<div>\n",
              "<style scoped>\n",
              "    .dataframe tbody tr th:only-of-type {\n",
              "        vertical-align: middle;\n",
              "    }\n",
              "\n",
              "    .dataframe tbody tr th {\n",
              "        vertical-align: top;\n",
              "    }\n",
              "\n",
              "    .dataframe thead th {\n",
              "        text-align: right;\n",
              "    }\n",
              "</style>\n",
              "<table border=\"1\" class=\"dataframe\">\n",
              "  <thead>\n",
              "    <tr style=\"text-align: right;\">\n",
              "      <th></th>\n",
              "      <th>CRIM</th>\n",
              "      <th>ZN</th>\n",
              "      <th>INDUS</th>\n",
              "      <th>CHAS</th>\n",
              "      <th>NOX</th>\n",
              "      <th>RM</th>\n",
              "      <th>AGE</th>\n",
              "      <th>DIS</th>\n",
              "      <th>RAD</th>\n",
              "      <th>TAX</th>\n",
              "      <th>PTRATIO</th>\n",
              "      <th>B</th>\n",
              "      <th>LSTAT</th>\n",
              "      <th>MEDV</th>\n",
              "    </tr>\n",
              "  </thead>\n",
              "  <tbody>\n",
              "    <tr>\n",
              "      <th>0</th>\n",
              "      <td>0.00632</td>\n",
              "      <td>18.0</td>\n",
              "      <td>2.31</td>\n",
              "      <td>0</td>\n",
              "      <td>0.538</td>\n",
              "      <td>6.575</td>\n",
              "      <td>65.2</td>\n",
              "      <td>4.0900</td>\n",
              "      <td>1</td>\n",
              "      <td>296.0</td>\n",
              "      <td>15.3</td>\n",
              "      <td>396.90</td>\n",
              "      <td>4.98</td>\n",
              "      <td>24.0</td>\n",
              "    </tr>\n",
              "    <tr>\n",
              "      <th>1</th>\n",
              "      <td>0.02731</td>\n",
              "      <td>0.0</td>\n",
              "      <td>7.07</td>\n",
              "      <td>0</td>\n",
              "      <td>0.469</td>\n",
              "      <td>6.421</td>\n",
              "      <td>78.9</td>\n",
              "      <td>4.9671</td>\n",
              "      <td>2</td>\n",
              "      <td>242.0</td>\n",
              "      <td>17.8</td>\n",
              "      <td>396.90</td>\n",
              "      <td>9.14</td>\n",
              "      <td>21.6</td>\n",
              "    </tr>\n",
              "    <tr>\n",
              "      <th>2</th>\n",
              "      <td>0.02729</td>\n",
              "      <td>0.0</td>\n",
              "      <td>7.07</td>\n",
              "      <td>0</td>\n",
              "      <td>0.469</td>\n",
              "      <td>7.185</td>\n",
              "      <td>61.1</td>\n",
              "      <td>4.9671</td>\n",
              "      <td>2</td>\n",
              "      <td>242.0</td>\n",
              "      <td>17.8</td>\n",
              "      <td>392.83</td>\n",
              "      <td>4.03</td>\n",
              "      <td>34.7</td>\n",
              "    </tr>\n",
              "    <tr>\n",
              "      <th>3</th>\n",
              "      <td>0.03237</td>\n",
              "      <td>0.0</td>\n",
              "      <td>2.18</td>\n",
              "      <td>0</td>\n",
              "      <td>0.458</td>\n",
              "      <td>6.998</td>\n",
              "      <td>45.8</td>\n",
              "      <td>6.0622</td>\n",
              "      <td>3</td>\n",
              "      <td>222.0</td>\n",
              "      <td>18.7</td>\n",
              "      <td>394.63</td>\n",
              "      <td>2.94</td>\n",
              "      <td>33.4</td>\n",
              "    </tr>\n",
              "    <tr>\n",
              "      <th>4</th>\n",
              "      <td>0.06905</td>\n",
              "      <td>0.0</td>\n",
              "      <td>2.18</td>\n",
              "      <td>0</td>\n",
              "      <td>0.458</td>\n",
              "      <td>7.147</td>\n",
              "      <td>54.2</td>\n",
              "      <td>6.0622</td>\n",
              "      <td>3</td>\n",
              "      <td>222.0</td>\n",
              "      <td>18.7</td>\n",
              "      <td>396.90</td>\n",
              "      <td>5.33</td>\n",
              "      <td>36.2</td>\n",
              "    </tr>\n",
              "  </tbody>\n",
              "</table>\n",
              "</div>"
            ],
            "text/plain": [
              "      CRIM    ZN  INDUS  CHAS    NOX  ...    TAX  PTRATIO       B  LSTAT  MEDV\n",
              "0  0.00632  18.0   2.31     0  0.538  ...  296.0     15.3  396.90   4.98  24.0\n",
              "1  0.02731   0.0   7.07     0  0.469  ...  242.0     17.8  396.90   9.14  21.6\n",
              "2  0.02729   0.0   7.07     0  0.469  ...  242.0     17.8  392.83   4.03  34.7\n",
              "3  0.03237   0.0   2.18     0  0.458  ...  222.0     18.7  394.63   2.94  33.4\n",
              "4  0.06905   0.0   2.18     0  0.458  ...  222.0     18.7  396.90   5.33  36.2\n",
              "\n",
              "[5 rows x 14 columns]"
            ]
          },
          "metadata": {
            "tags": []
          },
          "execution_count": 4
        }
      ]
    },
    {
      "cell_type": "code",
      "metadata": {
        "id": "Sj-X9U_tHcep",
        "colab_type": "code",
        "outputId": "d81c275e-33d6-4f02-d0bb-8e81ca753aef",
        "colab": {
          "base_uri": "https://localhost:8080/",
          "height": 351
        }
      },
      "source": [
        "boston.info()"
      ],
      "execution_count": 0,
      "outputs": [
        {
          "output_type": "stream",
          "text": [
            "<class 'pandas.core.frame.DataFrame'>\n",
            "RangeIndex: 506 entries, 0 to 505\n",
            "Data columns (total 14 columns):\n",
            "CRIM       506 non-null float64\n",
            "ZN         506 non-null float64\n",
            "INDUS      506 non-null float64\n",
            "CHAS       506 non-null int64\n",
            "NOX        506 non-null float64\n",
            "RM         506 non-null float64\n",
            "AGE        506 non-null float64\n",
            "DIS        506 non-null float64\n",
            "RAD        506 non-null int64\n",
            "TAX        506 non-null float64\n",
            "PTRATIO    506 non-null float64\n",
            "B          506 non-null float64\n",
            "LSTAT      506 non-null float64\n",
            "MEDV       506 non-null float64\n",
            "dtypes: float64(12), int64(2)\n",
            "memory usage: 55.5 KB\n"
          ],
          "name": "stdout"
        }
      ]
    },
    {
      "cell_type": "markdown",
      "metadata": {
        "id": "6XJRT8s1IBU9",
        "colab_type": "text"
      },
      "source": [
        "Dal metodo info possiamo notare che ci sono 506 unità con 14 features: non sono presenti valori nulli o NaN, quindi possiamo procedere con il nostro lavoro senza dover rimuovere o trasformare nessun elemento.\n",
        "Per comprendere cosa indicano le 14 features dobbiamo fare riferimento alla documentazione allegata al dataset che ci spiega come è stato cretato il dataset e quali sono i dati in esso contenuti.\n",
        "Per comodità riporto l'elenco della spiegazione delle diverse features:\n",
        "\n",
        "    1. CRIM      per capita crime rate by town\n",
        "    2. ZN        proportion of residential land zoned for lots over \n",
        "                 25,000 sq.ft.\n",
        "    3. INDUS     proportion of non-retail business acres per town\n",
        "    4. CHAS      Charles River dummy variable (= 1 if tract bounds \n",
        "                 river; 0 otherwise)\n",
        "    5. NOX       nitric oxides concentration (parts per 10 million)\n",
        "    6. RM        average number of rooms per dwelling\n",
        "    7. AGE       proportion of owner-occupied units built prior to 1940\n",
        "    8. DIS       weighted distances to five Boston employment centres\n",
        "    9. RAD       index of accessibility to radial highways\n",
        "    10. TAX      full-value property-tax rate per $10,000\n",
        "    11. PTRATIO  pupil-teacher ratio by town\n",
        "    12. B        1000(Bk - 0.63)^2 where Bk is the proportion of blacks \n",
        "                 by town\n",
        "    13. LSTAT    % lower status of the population\n",
        "    14. MEDV     Median value of owner-occupied homes in $1000's\n",
        "\n",
        "  I dati che interessano alla notra analisi saranno contenuti nella colonna RM che indica il numero medio di camere per abitazione ed i dati della colonna MEDV che indica il valore medio delle case occupate dai proprietari espresso in migliaia di dollari.\n",
        "  \n",
        "\n"
      ]
    },
    {
      "cell_type": "markdown",
      "metadata": {
        "id": "Ka3T-BH1gQPm",
        "colab_type": "text"
      },
      "source": [
        "### Modello di regressione lineare con Keras"
      ]
    },
    {
      "cell_type": "code",
      "metadata": {
        "id": "TTiL1IpdJcmR",
        "colab_type": "code",
        "colab": {}
      },
      "source": [
        "# Creiamo due numpy array con i dati che interessano alla nostra analisi.\n",
        "X = boston['RM'].values\n",
        "y = boston['MEDV'].values\n",
        "\n",
        "# Dividiamo i nostri dati per creare due distinti set: uno per l'addestramento del nostro modello ed uno per testarlo.\n",
        "\n",
        "from sklearn.model_selection import train_test_split\n",
        "X_train, X_test, y_train, y_test = train_test_split(X, y, test_size = 0.2)"
      ],
      "execution_count": 0,
      "outputs": []
    },
    {
      "cell_type": "code",
      "metadata": {
        "id": "WB1eaaTWKaG7",
        "colab_type": "code",
        "colab": {}
      },
      "source": [
        "# Creiamo il nostro modello con Keras.\n",
        "from keras.models import Sequential\n",
        "from keras.layers import Dense\n",
        "\n",
        "model = Sequential()                                              # Creiamo il modello\n",
        "layer = Dense(1, input_dim = 1)                                   # Creiamo un unico strato con 1 input ed 1 output \n",
        "model.add(layer)                                                  # Aggiungiamo lo strato al modello\n",
        "model.compile( optimizer = 'sgd', loss = 'mean_squared_error' )    # Assegniamo ottimizzatore e funzione di costo          "
      ],
      "execution_count": 0,
      "outputs": []
    },
    {
      "cell_type": "code",
      "metadata": {
        "id": "_OG7YoW9Ohz9",
        "colab_type": "code",
        "outputId": "b6c4db0b-b7da-4ddd-af61-67b5e92ec312",
        "colab": {
          "base_uri": "https://localhost:8080/",
          "height": 1000
        }
      },
      "source": [
        "# Ora che abbiamo impostato il modello procediamo con il suo addestramento\n",
        "model.fit(X_train, y_train, epochs = 100)   \n"
      ],
      "execution_count": 0,
      "outputs": [
        {
          "output_type": "stream",
          "text": [
            "Epoch 1/100\n",
            "404/404 [==============================] - 0s 52us/step - loss: 53.7114\n",
            "Epoch 2/100\n",
            "404/404 [==============================] - 0s 37us/step - loss: 52.8217\n",
            "Epoch 3/100\n",
            "404/404 [==============================] - 0s 37us/step - loss: 51.7509\n",
            "Epoch 4/100\n",
            "404/404 [==============================] - 0s 35us/step - loss: 51.6404\n",
            "Epoch 5/100\n",
            "404/404 [==============================] - 0s 34us/step - loss: 52.1804\n",
            "Epoch 6/100\n",
            "404/404 [==============================] - 0s 34us/step - loss: 52.0687\n",
            "Epoch 7/100\n",
            "404/404 [==============================] - 0s 35us/step - loss: 51.6911\n",
            "Epoch 8/100\n",
            "404/404 [==============================] - 0s 38us/step - loss: 50.0972\n",
            "Epoch 9/100\n",
            "404/404 [==============================] - 0s 38us/step - loss: 50.7842\n",
            "Epoch 10/100\n",
            "404/404 [==============================] - 0s 39us/step - loss: 51.5730\n",
            "Epoch 11/100\n",
            "404/404 [==============================] - 0s 36us/step - loss: 51.5349\n",
            "Epoch 12/100\n",
            "404/404 [==============================] - 0s 36us/step - loss: 50.8707\n",
            "Epoch 13/100\n",
            "404/404 [==============================] - 0s 34us/step - loss: 51.6022\n",
            "Epoch 14/100\n",
            "404/404 [==============================] - 0s 38us/step - loss: 52.4401\n",
            "Epoch 15/100\n",
            "404/404 [==============================] - 0s 38us/step - loss: 51.3289\n",
            "Epoch 16/100\n",
            "404/404 [==============================] - 0s 35us/step - loss: 50.9932\n",
            "Epoch 17/100\n",
            "404/404 [==============================] - 0s 40us/step - loss: 51.3030\n",
            "Epoch 18/100\n",
            "404/404 [==============================] - 0s 39us/step - loss: 51.5471\n",
            "Epoch 19/100\n",
            "404/404 [==============================] - 0s 40us/step - loss: 51.6065\n",
            "Epoch 20/100\n",
            "404/404 [==============================] - 0s 39us/step - loss: 51.3834\n",
            "Epoch 21/100\n",
            "404/404 [==============================] - 0s 43us/step - loss: 51.6295\n",
            "Epoch 22/100\n",
            "404/404 [==============================] - 0s 37us/step - loss: 51.8164\n",
            "Epoch 23/100\n",
            "404/404 [==============================] - 0s 36us/step - loss: 49.7396\n",
            "Epoch 24/100\n",
            "404/404 [==============================] - 0s 39us/step - loss: 51.3102\n",
            "Epoch 25/100\n",
            "404/404 [==============================] - 0s 49us/step - loss: 50.2423\n",
            "Epoch 26/100\n",
            "404/404 [==============================] - 0s 44us/step - loss: 52.2508\n",
            "Epoch 27/100\n",
            "404/404 [==============================] - 0s 41us/step - loss: 50.2658\n",
            "Epoch 28/100\n",
            "404/404 [==============================] - 0s 49us/step - loss: 51.6615\n",
            "Epoch 29/100\n",
            "404/404 [==============================] - 0s 44us/step - loss: 50.4764\n",
            "Epoch 30/100\n",
            "404/404 [==============================] - 0s 43us/step - loss: 50.9316\n",
            "Epoch 31/100\n",
            "404/404 [==============================] - 0s 34us/step - loss: 51.9339\n",
            "Epoch 32/100\n",
            "404/404 [==============================] - 0s 38us/step - loss: 51.7228\n",
            "Epoch 33/100\n",
            "404/404 [==============================] - 0s 35us/step - loss: 50.7125\n",
            "Epoch 34/100\n",
            "404/404 [==============================] - 0s 42us/step - loss: 49.0868\n",
            "Epoch 35/100\n",
            "404/404 [==============================] - 0s 38us/step - loss: 50.3327\n",
            "Epoch 36/100\n",
            "404/404 [==============================] - 0s 37us/step - loss: 50.8148\n",
            "Epoch 37/100\n",
            "404/404 [==============================] - 0s 42us/step - loss: 51.3622\n",
            "Epoch 38/100\n",
            "404/404 [==============================] - 0s 38us/step - loss: 49.5836\n",
            "Epoch 39/100\n",
            "404/404 [==============================] - 0s 39us/step - loss: 51.1593\n",
            "Epoch 40/100\n",
            "404/404 [==============================] - 0s 33us/step - loss: 50.6540\n",
            "Epoch 41/100\n",
            "404/404 [==============================] - 0s 34us/step - loss: 49.5457\n",
            "Epoch 42/100\n",
            "404/404 [==============================] - 0s 35us/step - loss: 52.0974\n",
            "Epoch 43/100\n",
            "404/404 [==============================] - 0s 49us/step - loss: 49.7109\n",
            "Epoch 44/100\n",
            "404/404 [==============================] - 0s 36us/step - loss: 50.8315\n",
            "Epoch 45/100\n",
            "404/404 [==============================] - 0s 35us/step - loss: 49.7689\n",
            "Epoch 46/100\n",
            "404/404 [==============================] - 0s 36us/step - loss: 50.1603\n",
            "Epoch 47/100\n",
            "404/404 [==============================] - 0s 38us/step - loss: 49.8334\n",
            "Epoch 48/100\n",
            "404/404 [==============================] - 0s 38us/step - loss: 49.0204\n",
            "Epoch 49/100\n",
            "404/404 [==============================] - 0s 35us/step - loss: 49.8113\n",
            "Epoch 50/100\n",
            "404/404 [==============================] - 0s 34us/step - loss: 51.0966\n",
            "Epoch 51/100\n",
            "404/404 [==============================] - 0s 34us/step - loss: 49.6966\n",
            "Epoch 52/100\n",
            "404/404 [==============================] - 0s 33us/step - loss: 50.0111\n",
            "Epoch 53/100\n",
            "404/404 [==============================] - 0s 33us/step - loss: 50.3542\n",
            "Epoch 54/100\n",
            "404/404 [==============================] - 0s 36us/step - loss: 49.8756\n",
            "Epoch 55/100\n",
            "404/404 [==============================] - 0s 35us/step - loss: 48.6898\n",
            "Epoch 56/100\n",
            "404/404 [==============================] - 0s 37us/step - loss: 50.6868\n",
            "Epoch 57/100\n",
            "404/404 [==============================] - 0s 38us/step - loss: 50.4154\n",
            "Epoch 58/100\n",
            "404/404 [==============================] - 0s 35us/step - loss: 49.6703\n",
            "Epoch 59/100\n",
            "404/404 [==============================] - 0s 35us/step - loss: 49.1733\n",
            "Epoch 60/100\n",
            "404/404 [==============================] - 0s 34us/step - loss: 49.5375\n",
            "Epoch 61/100\n",
            "404/404 [==============================] - 0s 34us/step - loss: 49.1480\n",
            "Epoch 62/100\n",
            "404/404 [==============================] - 0s 43us/step - loss: 49.4851\n",
            "Epoch 63/100\n",
            "404/404 [==============================] - 0s 36us/step - loss: 49.4512\n",
            "Epoch 64/100\n",
            "404/404 [==============================] - 0s 36us/step - loss: 48.7447\n",
            "Epoch 65/100\n",
            "404/404 [==============================] - 0s 34us/step - loss: 49.3974\n",
            "Epoch 66/100\n",
            "404/404 [==============================] - 0s 34us/step - loss: 52.3454\n",
            "Epoch 67/100\n",
            "404/404 [==============================] - 0s 33us/step - loss: 50.0201\n",
            "Epoch 68/100\n",
            "404/404 [==============================] - 0s 33us/step - loss: 49.6534\n",
            "Epoch 69/100\n",
            "404/404 [==============================] - 0s 37us/step - loss: 50.0259\n",
            "Epoch 70/100\n",
            "404/404 [==============================] - 0s 33us/step - loss: 48.6037\n",
            "Epoch 71/100\n",
            "404/404 [==============================] - 0s 38us/step - loss: 50.4416\n",
            "Epoch 72/100\n",
            "404/404 [==============================] - 0s 33us/step - loss: 49.0603\n",
            "Epoch 73/100\n",
            "404/404 [==============================] - 0s 34us/step - loss: 48.8034\n",
            "Epoch 74/100\n",
            "404/404 [==============================] - 0s 36us/step - loss: 48.2484\n",
            "Epoch 75/100\n",
            "404/404 [==============================] - 0s 38us/step - loss: 48.4599\n",
            "Epoch 76/100\n",
            "404/404 [==============================] - 0s 38us/step - loss: 48.2281\n",
            "Epoch 77/100\n",
            "404/404 [==============================] - 0s 36us/step - loss: 50.3603\n",
            "Epoch 78/100\n",
            "404/404 [==============================] - 0s 39us/step - loss: 49.3342\n",
            "Epoch 79/100\n",
            "404/404 [==============================] - 0s 37us/step - loss: 48.8119\n",
            "Epoch 80/100\n",
            "404/404 [==============================] - 0s 37us/step - loss: 49.1150\n",
            "Epoch 81/100\n",
            "404/404 [==============================] - 0s 40us/step - loss: 50.4752\n",
            "Epoch 82/100\n",
            "404/404 [==============================] - 0s 39us/step - loss: 49.9287\n",
            "Epoch 83/100\n",
            "404/404 [==============================] - 0s 50us/step - loss: 49.1852\n",
            "Epoch 84/100\n",
            "404/404 [==============================] - 0s 40us/step - loss: 49.0815\n",
            "Epoch 85/100\n",
            "404/404 [==============================] - 0s 38us/step - loss: 49.2281\n",
            "Epoch 86/100\n",
            "404/404 [==============================] - 0s 47us/step - loss: 49.1239\n",
            "Epoch 87/100\n",
            "404/404 [==============================] - 0s 37us/step - loss: 48.7381\n",
            "Epoch 88/100\n",
            "404/404 [==============================] - 0s 37us/step - loss: 48.2836\n",
            "Epoch 89/100\n",
            "404/404 [==============================] - 0s 35us/step - loss: 49.9923\n",
            "Epoch 90/100\n",
            "404/404 [==============================] - 0s 34us/step - loss: 49.4365\n",
            "Epoch 91/100\n",
            "404/404 [==============================] - 0s 35us/step - loss: 49.3949\n",
            "Epoch 92/100\n",
            "404/404 [==============================] - 0s 36us/step - loss: 48.6565\n",
            "Epoch 93/100\n",
            "404/404 [==============================] - 0s 36us/step - loss: 48.6506\n",
            "Epoch 94/100\n",
            "404/404 [==============================] - 0s 37us/step - loss: 49.8655\n",
            "Epoch 95/100\n",
            "404/404 [==============================] - 0s 39us/step - loss: 48.7745\n",
            "Epoch 96/100\n",
            "404/404 [==============================] - 0s 46us/step - loss: 48.4607\n",
            "Epoch 97/100\n",
            "404/404 [==============================] - 0s 46us/step - loss: 48.2893\n",
            "Epoch 98/100\n",
            "404/404 [==============================] - 0s 41us/step - loss: 49.9764\n",
            "Epoch 99/100\n",
            "404/404 [==============================] - 0s 42us/step - loss: 49.9327\n",
            "Epoch 100/100\n",
            "404/404 [==============================] - 0s 37us/step - loss: 48.6652\n"
          ],
          "name": "stdout"
        },
        {
          "output_type": "execute_result",
          "data": {
            "text/plain": [
              "<keras.callbacks.History at 0x7f9824a399b0>"
            ]
          },
          "metadata": {
            "tags": []
          },
          "execution_count": 21
        }
      ]
    },
    {
      "cell_type": "markdown",
      "metadata": {
        "id": "x3CvCEwXPd4X",
        "colab_type": "text"
      },
      "source": [
        "Dopo un ciclo di 100 epoche abbiamo un valore del nostro scarto quadratico medio pari di cieca 48.6 (il dato puà variare ogni volta a causa della funzione di ottimizzazzione) questo significa che mediamente il modello si sbaglia di circa $ 7.000 dollari (pari alla radice quadrata dello scarto quadratico medio) nella valutazione della previsione del valore della casa.\n",
        "Il dato ottenuto però è relativo al dataset utilizzato per l'addestramento, per verificarne la bontà dobbiamo applicare il nostro modello ad un nuovo dataset, per questo motivo abbiamo creato in precedenza un dataset per fare i test.\n"
      ]
    },
    {
      "cell_type": "code",
      "metadata": {
        "id": "WrYsN6OaO26-",
        "colab_type": "code",
        "outputId": "e42a86db-4cde-476f-d8e3-ad7e73124848",
        "colab": {
          "base_uri": "https://localhost:8080/",
          "height": 52
        }
      },
      "source": [
        "model.evaluate(X_test, y_test)"
      ],
      "execution_count": 0,
      "outputs": [
        {
          "output_type": "stream",
          "text": [
            "102/102 [==============================] - 0s 45us/step\n"
          ],
          "name": "stdout"
        },
        {
          "output_type": "execute_result",
          "data": {
            "text/plain": [
              "53.96683345121496"
            ]
          },
          "metadata": {
            "tags": []
          },
          "execution_count": 23
        }
      ]
    },
    {
      "cell_type": "markdown",
      "metadata": {
        "id": "YOSXaI9xRROf",
        "colab_type": "text"
      },
      "source": [
        " Abbiamo un valore leggermente superiore, questo ci indica che possiamo migliorare il nostro modello per quanto riguarda la fase di addestramento. Comunque otteniamo come deviazione standard un errore abbastanza soddisfacente  che si aggira sempre intorno ai 7.000 dollari."
      ]
    },
    {
      "cell_type": "code",
      "metadata": {
        "id": "algDUqWuSXMv",
        "colab_type": "code",
        "outputId": "dbbf00df-0e27-4b16-b4fc-10980e2eea35",
        "colab": {
          "base_uri": "https://localhost:8080/",
          "height": 52
        }
      },
      "source": [
        "# Andiamo a conoscere i pesi della nostra retta di regressione \n",
        "pesi = model.get_weights()\n",
        "print('Inclinazione: ',pesi[0])\n",
        "print('Intercetta: ',pesi[1])"
      ],
      "execution_count": 0,
      "outputs": [
        {
          "output_type": "stream",
          "text": [
            "Intercetta:  [[5.8162727]]\n",
            "Inclinazione:  [-15.418067]\n"
          ],
          "name": "stdout"
        }
      ]
    },
    {
      "cell_type": "markdown",
      "metadata": {
        "id": "b7HcJJY8UJ_J",
        "colab_type": "text"
      },
      "source": [
        "### Visualization\n",
        "Andiamo a creare un grafico non la serie dei valori predetti dal nostro modello, la serie dei valori effettivi e la linea di regressione."
      ]
    },
    {
      "cell_type": "code",
      "metadata": {
        "id": "MXRsctixSZcs",
        "colab_type": "code",
        "outputId": "d785ac38-8895-499b-a8ac-86b9c2d16974",
        "colab": {
          "base_uri": "https://localhost:8080/",
          "height": 297
        }
      },
      "source": [
        " # Calcoliamo una serie di previsioni\n",
        " y_pred = model.predict(X_test)\n",
        "\n",
        "import matplotlib.pyplot as plt\n",
        "\n",
        "plt.scatter(X_test, y_test, color='green')\n",
        "plt.plot(X_test, y_pred, color='red')\n",
        "plt.xlabel('Numero medio di stanze per edificio')\n",
        "plt.ylabel('Valore medio in migliaia di dollari')"
      ],
      "execution_count": 0,
      "outputs": [
        {
          "output_type": "execute_result",
          "data": {
            "text/plain": [
              "Text(0, 0.5, 'Valore medio in migliaia di dollari')"
            ]
          },
          "metadata": {
            "tags": []
          },
          "execution_count": 34
        },
        {
          "output_type": "display_data",
          "data": {
            "image/png": "[encoded data removed]",
            "text/plain": [
              "<Figure size 432x288 with 1 Axes>"
            ]
          },
          "metadata": {
            "tags": []
          }
        }
      ]
    },
    {
      "cell_type": "code",
      "metadata": {
        "id": "06P6FZfTUgJd",
        "colab_type": "code",
        "colab": {}
      },
      "source": [
        "Graficamente possiamo notare che il modello non è dei migliori per gli elementi marginali mentre può offrire una buona approssimazione per gli elementi centrali.\n",
        "Comunque non potevamo aspettarci molto da un modello di tale semplicità che coinvolgeva una unica variabile.\n",
        "Possiamo cercare di migliorare le nostre previsioni utilizzando un modello di regressione lineare multipla"
      ],
      "execution_count": 0,
      "outputs": []
    }
  ]
}